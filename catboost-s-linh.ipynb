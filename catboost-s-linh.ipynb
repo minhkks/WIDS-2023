{
 "cells": [
  {
   "cell_type": "code",
   "execution_count": 1,
   "id": "fcaf191b",
   "metadata": {
    "_cell_guid": "b1076dfc-b9ad-4769-8c92-a6c4dae69d19",
    "_uuid": "8f2839f25d086af736a60e9eeb907d3b93b6e0e5",
    "execution": {
     "iopub.execute_input": "2023-02-19T06:21:37.490992Z",
     "iopub.status.busy": "2023-02-19T06:21:37.490519Z",
     "iopub.status.idle": "2023-02-19T06:21:40.720493Z",
     "shell.execute_reply": "2023-02-19T06:21:40.718715Z"
    },
    "papermill": {
     "duration": 3.241094,
     "end_time": "2023-02-19T06:21:40.724069",
     "exception": false,
     "start_time": "2023-02-19T06:21:37.482975",
     "status": "completed"
    },
    "tags": []
   },
   "outputs": [
    {
     "data": {
      "text/html": [
       "<style type='text/css'>\n",
       ".datatable table.frame { margin-bottom: 0; }\n",
       ".datatable table.frame thead { border-bottom: none; }\n",
       ".datatable table.frame tr.coltypes td {  color: #FFFFFF;  line-height: 6px;  padding: 0 0.5em;}\n",
       ".datatable .bool    { background: #DDDD99; }\n",
       ".datatable .object  { background: #565656; }\n",
       ".datatable .int     { background: #5D9E5D; }\n",
       ".datatable .float   { background: #4040CC; }\n",
       ".datatable .str     { background: #CC4040; }\n",
       ".datatable .time    { background: #40CC40; }\n",
       ".datatable .row_index {  background: var(--jp-border-color3);  border-right: 1px solid var(--jp-border-color0);  color: var(--jp-ui-font-color3);  font-size: 9px;}\n",
       ".datatable .frame tbody td { text-align: left; }\n",
       ".datatable .frame tr.coltypes .row_index {  background: var(--jp-border-color0);}\n",
       ".datatable th:nth-child(2) { padding-left: 12px; }\n",
       ".datatable .hellipsis {  color: var(--jp-cell-editor-border-color);}\n",
       ".datatable .vellipsis {  background: var(--jp-layout-color0);  color: var(--jp-cell-editor-border-color);}\n",
       ".datatable .na {  color: var(--jp-cell-editor-border-color);  font-size: 80%;}\n",
       ".datatable .sp {  opacity: 0.25;}\n",
       ".datatable .footer { font-size: 9px; }\n",
       ".datatable .frame_dimensions {  background: var(--jp-border-color3);  border-top: 1px solid var(--jp-border-color0);  color: var(--jp-ui-font-color3);  display: inline-block;  opacity: 0.6;  padding: 1px 10px 1px 5px;}\n",
       "</style>\n"
      ],
      "text/plain": [
       "<IPython.core.display.HTML object>"
      ]
     },
     "metadata": {},
     "output_type": "display_data"
    },
    {
     "name": "stdout",
     "output_type": "stream",
     "text": [
      "Libraries imported\n"
     ]
    }
   ],
   "source": [
    "import numpy as np # linear algebra\n",
    "import pandas as pd # data processing, CSV file I/O (e.g. pd.read_csv)\n",
    "import matplotlib.pyplot as plt\n",
    "import seaborn as sb\n",
    "from datetime import datetime\n",
    "from sklearn.model_selection import train_test_split\n",
    "from sklearn.feature_selection import RFE\n",
    "from sklearn.linear_model import Lasso, LinearRegression\n",
    "from sklearn.preprocessing import LabelEncoder, OneHotEncoder\n",
    "from sklearn.ensemble import RandomForestRegressor, GradientBoostingRegressor\n",
    "from statsmodels.tsa.arima.model import ARIMA\n",
    "import xgboost as xgb\n",
    "from sklearn.metrics import mean_squared_error\n",
    "from sklearn.preprocessing import StandardScaler, MinMaxScaler\n",
    "from sklearn.pipeline import Pipeline\n",
    "import gc\n",
    "import lightgbm as lgb\n",
    "import numpy as np\n",
    "import pandas as pd\n",
    "pd.set_option('display.max_columns', None)\n",
    "from sklearn.model_selection import train_test_split\n",
    "from sklearn.metrics import mean_squared_error\n",
    "\n",
    "from sklearn.preprocessing import LabelEncoder\n",
    "from catboost import CatBoostRegressor\n",
    "from sklearn.model_selection import GroupKFold\n",
    "%matplotlib inline\n",
    "print(\"Libraries imported\")"
   ]
  },
  {
   "cell_type": "code",
   "execution_count": 2,
   "id": "915815b2",
   "metadata": {
    "execution": {
     "iopub.execute_input": "2023-02-19T06:21:40.741944Z",
     "iopub.status.busy": "2023-02-19T06:21:40.741609Z",
     "iopub.status.idle": "2023-02-19T06:22:01.307220Z",
     "shell.execute_reply": "2023-02-19T06:22:01.306252Z"
    },
    "papermill": {
     "duration": 20.577168,
     "end_time": "2023-02-19T06:22:01.309954",
     "exception": false,
     "start_time": "2023-02-19T06:21:40.732786",
     "status": "completed"
    },
    "tags": []
   },
   "outputs": [],
   "source": [
    "cc_train = pd.read_csv('/kaggle/input/widsdatathon2023/train_data.csv')\n",
    "cc_test = pd.read_csv('/kaggle/input/widsdatathon2023/test_data.csv')\n",
    "cc_sample = pd.read_csv('/kaggle/input/widsdatathon2023/sample_solution.csv')\n",
    "label = pd.read_csv(\"/kaggle/input/pseudo-labeling/submission_pseudo_labeling.csv\")"
   ]
  },
  {
   "cell_type": "code",
   "execution_count": 3,
   "id": "75a8ed6d",
   "metadata": {
    "execution": {
     "iopub.execute_input": "2023-02-19T06:22:01.321919Z",
     "iopub.status.busy": "2023-02-19T06:22:01.321607Z",
     "iopub.status.idle": "2023-02-19T06:22:02.756285Z",
     "shell.execute_reply": "2023-02-19T06:22:02.755132Z"
    },
    "papermill": {
     "duration": 1.444059,
     "end_time": "2023-02-19T06:22:02.759518",
     "exception": false,
     "start_time": "2023-02-19T06:22:01.315459",
     "status": "completed"
    },
    "tags": []
   },
   "outputs": [],
   "source": [
    "temp = cc_test.copy()\n",
    "temp[\"contest-tmp2m-14d__tmp2m\"] = label[\"contest-tmp2m-14d__tmp2m\"]\n",
    "cc_train = cc_train.append(temp.sample(frac=0.8)).reset_index(drop=True)"
   ]
  },
  {
   "cell_type": "code",
   "execution_count": 4,
   "id": "5670fc59",
   "metadata": {
    "execution": {
     "iopub.execute_input": "2023-02-19T06:22:02.776902Z",
     "iopub.status.busy": "2023-02-19T06:22:02.776511Z",
     "iopub.status.idle": "2023-02-19T06:22:02.792375Z",
     "shell.execute_reply": "2023-02-19T06:22:02.791544Z"
    },
    "papermill": {
     "duration": 0.026732,
     "end_time": "2023-02-19T06:22:02.794801",
     "exception": false,
     "start_time": "2023-02-19T06:22:02.768069",
     "status": "completed"
    },
    "tags": []
   },
   "outputs": [],
   "source": [
    "def reduce_mem_usage(dataframe, verbose=True):\n",
    "  numerics = ['int16', 'int32', 'int64', 'float16', 'float32', 'float64']\n",
    "  start_memory = dataframe.memory_usage().sum() / 1024**2\n",
    "  for col in dataframe.columns:\n",
    "    col_type = dataframe[col].dtypes\n",
    "    if col_type in numerics:\n",
    "      c_min = dataframe[col].min()\n",
    "      c_max = dataframe[col].max()\n",
    "      if str(col_type)[:3] == 'int':\n",
    "        if c_min > np.iinfo(np.int8).min and c_max < np.iinfo(np.int8).max:\n",
    "          dataframe[col] = dataframe[col].astype(np.int8)\n",
    "        elif c_min > np.iinfo(np.int16).min and c_max < np.iinfo(np.int16).max:\n",
    "          dataframe[col] = dataframe[col].astype(np.int16)\n",
    "        elif c_min > np.iinfo(np.int32).min and c_max < np.iinfo(np.int32).max:\n",
    "          dataframe[col] = dataframe[col].astype(np.int32)\n",
    "        elif c_min > np.iinfo(np.int64).min and c_max < np.iinfo(np.int64).max:\n",
    "          dataframe[col] = dataframe[col].astype(np.int64)\n",
    "      else:\n",
    "        if c_min > np.finfo(np.float32).min and c_max < np.finfo(np.float32).max:\n",
    "          dataframe[col] = dataframe[col].astype(np.float32)\n",
    "        else:\n",
    "          dataframe[col] = dataframe[col].astype(np.float64)\n",
    "  end_memory = dataframe.memory_usage().sum() / 1024**2\n",
    "  print('Mem. usage decreased to {:5.2f} Mb ({:.1f}% reduction)'.format(end_memory, 100 * (start_memory - end_memory) / start_memory)) if verbose else print('Reduced to {:5.2f}'.format(end_memory))\n",
    "  return dataframe"
   ]
  },
  {
   "cell_type": "code",
   "execution_count": 5,
   "id": "0b3e9a0f",
   "metadata": {
    "execution": {
     "iopub.execute_input": "2023-02-19T06:22:02.811361Z",
     "iopub.status.busy": "2023-02-19T06:22:02.811034Z",
     "iopub.status.idle": "2023-02-19T06:22:31.151899Z",
     "shell.execute_reply": "2023-02-19T06:22:31.150855Z"
    },
    "papermill": {
     "duration": 28.352358,
     "end_time": "2023-02-19T06:22:31.155205",
     "exception": false,
     "start_time": "2023-02-19T06:22:02.802847",
     "status": "completed"
    },
    "tags": []
   },
   "outputs": [
    {
     "name": "stdout",
     "output_type": "stream",
     "text": [
      "Mem. usage decreased to 379.19 Mb (49.6% reduction)\n"
     ]
    }
   ],
   "source": [
    "cc_train = reduce_mem_usage(cc_train)"
   ]
  },
  {
   "cell_type": "code",
   "execution_count": 6,
   "id": "7e5cd458",
   "metadata": {
    "execution": {
     "iopub.execute_input": "2023-02-19T06:22:31.169028Z",
     "iopub.status.busy": "2023-02-19T06:22:31.168742Z",
     "iopub.status.idle": "2023-02-19T06:22:31.173536Z",
     "shell.execute_reply": "2023-02-19T06:22:31.172545Z"
    },
    "papermill": {
     "duration": 0.013446,
     "end_time": "2023-02-19T06:22:31.175637",
     "exception": false,
     "start_time": "2023-02-19T06:22:31.162191",
     "status": "completed"
    },
    "tags": []
   },
   "outputs": [],
   "source": [
    "month_to_season = {\n",
    "      1: 0,\n",
    "      2: 0,\n",
    "      3: 1,\n",
    "      4: 1,\n",
    "      5: 1,\n",
    "      6: 2,\n",
    "      7: 2,\n",
    "      8: 2, \n",
    "      9: 3, \n",
    "      10: 3,\n",
    "      11: 3,\n",
    "      12: 0\n",
    "  }"
   ]
  },
  {
   "cell_type": "code",
   "execution_count": 7,
   "id": "976a2809",
   "metadata": {
    "execution": {
     "iopub.execute_input": "2023-02-19T06:22:31.187582Z",
     "iopub.status.busy": "2023-02-19T06:22:31.187327Z",
     "iopub.status.idle": "2023-02-19T06:22:31.201391Z",
     "shell.execute_reply": "2023-02-19T06:22:31.200384Z"
    },
    "papermill": {
     "duration": 0.022598,
     "end_time": "2023-02-19T06:22:31.203417",
     "exception": false,
     "start_time": "2023-02-19T06:22:31.180819",
     "status": "completed"
    },
    "tags": []
   },
   "outputs": [],
   "source": [
    "def location_feature(train, test):\n",
    "    # Reference: https://www.kaggle.com/code/flaviafelicioni/wids-2023-different-locations-train-test-solved\n",
    "    scale = 14\n",
    "    train.loc[:,'lat']=round(train.lat,scale)\n",
    "    train.loc[:,'lon']=round(train.lon,scale)\n",
    "    test.loc[:,'lat']=round(test.lat,scale)\n",
    "    test.loc[:,'lon']=round(test.lon,scale)\n",
    "    \n",
    "    train_and_test = pd.concat([train, test], axis=0)\n",
    "    train_and_test['loc_group'] = train_and_test.groupby(['lat', 'lon']).ngroup()\n",
    "    print(f'{train_and_test.loc_group.nunique()} unique locations')\n",
    "    \n",
    "    train = train_and_test.iloc[:len(train)]\n",
    "    test = train_and_test.iloc[len(train):].drop(target, axis=1)\n",
    "    \n",
    "    return train, test\n",
    "\n",
    "def cat_encode(train, test):\n",
    "    # encoding the categorical feature in the train and test data set\n",
    "    # using OneHotEncoder\n",
    "    ohe = OneHotEncoder()\n",
    "    train_encoded = ohe.fit_transform(train[['climateregions__climateregion']])\n",
    "    test_encoded = ohe.transform(test[['climateregions__climateregion']])\n",
    "    \n",
    "    train = train.drop(['climateregions__climateregion'], axis=1)\n",
    "    test = test.drop(['climateregions__climateregion'], axis=1)\n",
    "    \n",
    "    train_encoded = pd.DataFrame(train_encoded.toarray(), columns=ohe.get_feature_names_out(['climateregions__climateregion']))\n",
    "    test_encoded = pd.DataFrame(test_encoded.toarray(), columns=ohe.get_feature_names_out(['climateregions__climateregion']))\n",
    "    \n",
    "    train = pd.concat([train, train_encoded], axis=1)\n",
    "    test = pd.concat([test, test_encoded], axis=1)\n",
    "    \n",
    "    return train, test\n",
    "\n",
    "    \n",
    "def fill_na_rows(dataset):\n",
    "    # Find the columns with missing values\n",
    "    columns_with_missing_values = dataset.columns[dataset.isnull().any()].tolist()\n",
    "    \n",
    "    # Impute the missing values with the mean value of that column\n",
    "    for col in columns_with_missing_values:\n",
    "        dataset[col].fillna(dataset[col].mean(), inplace=True)\n",
    "        \n",
    "    return dataset\n",
    "\n",
    "def create_new_feat(dataset):\n",
    "#     dataset['year']=pd.DatetimeIndex(dataset['startdate']).year \n",
    "    dataset['month']=pd.DatetimeIndex(dataset['startdate']).month \n",
    "    dataset['day']=pd.DatetimeIndex(dataset['startdate']).day\n",
    "#     dataset['season'] = dataset['month'].apply(lambda x: month_to_season[x])\n",
    "    return dataset\n",
    "\n",
    "def feature_engineering(origin_train, origin_test):\n",
    "    train, test = origin_train, origin_test\n",
    "    train = fill_na_rows(train)\n",
    "    train = create_new_feat(train)\n",
    "    test = create_new_feat(test)\n",
    "    train, test = cat_encode(train, test)\n",
    "    irrelevant_cols = ['index', 'startdate','contest-tmp2m-14d__tmp2m', 'climateregions__climateregion']\n",
    "    features = [col for col in train.columns if col not in irrelevant_cols]\n",
    "    #features = [col for col in train.columns]\n",
    "    X = train[features]\n",
    "    X_test = test[features]\n",
    "    y = train['contest-tmp2m-14d__tmp2m']\n",
    "    # Initialize the scaler\n",
    "    #scaler = MinMaxScaler()\n",
    "\n",
    "    # Fit the scaler to the train data\n",
    "    #scaler.fit(X)\n",
    "\n",
    "    # Transform the train data\n",
    "    #X_train_scaled = scaler.transform(X)\n",
    "\n",
    "    # Transform the test data\n",
    "    #X_test_scaled = scaler.transform(X_test)\n",
    "    \n",
    "    return X, y, X_test"
   ]
  },
  {
   "cell_type": "code",
   "execution_count": 8,
   "id": "2b088efc",
   "metadata": {
    "execution": {
     "iopub.execute_input": "2023-02-19T06:22:31.215013Z",
     "iopub.status.busy": "2023-02-19T06:22:31.214760Z",
     "iopub.status.idle": "2023-02-19T06:22:31.231310Z",
     "shell.execute_reply": "2023-02-19T06:22:31.230488Z"
    },
    "papermill": {
     "duration": 0.024404,
     "end_time": "2023-02-19T06:22:31.233254",
     "exception": false,
     "start_time": "2023-02-19T06:22:31.208850",
     "status": "completed"
    },
    "tags": []
   },
   "outputs": [],
   "source": [
    "target=\"contest-tmp2m-14d__tmp2m\"\n",
    "cc_test_copy = cc_test.copy()"
   ]
  },
  {
   "cell_type": "code",
   "execution_count": 9,
   "id": "cc7cdd2c",
   "metadata": {
    "execution": {
     "iopub.execute_input": "2023-02-19T06:22:31.244623Z",
     "iopub.status.busy": "2023-02-19T06:22:31.244369Z",
     "iopub.status.idle": "2023-02-19T06:23:25.858956Z",
     "shell.execute_reply": "2023-02-19T06:23:25.857912Z"
    },
    "papermill": {
     "duration": 54.623261,
     "end_time": "2023-02-19T06:23:25.861684",
     "exception": false,
     "start_time": "2023-02-19T06:22:31.238423",
     "status": "completed"
    },
    "tags": []
   },
   "outputs": [],
   "source": [
    "# Split the data into training and test sets\n",
    "X, y, X_test = feature_engineering(cc_train.copy(), cc_test.copy())"
   ]
  },
  {
   "cell_type": "code",
   "execution_count": 10,
   "id": "6e33ca50",
   "metadata": {
    "execution": {
     "iopub.execute_input": "2023-02-19T06:23:25.875010Z",
     "iopub.status.busy": "2023-02-19T06:23:25.874680Z",
     "iopub.status.idle": "2023-02-19T06:23:25.880169Z",
     "shell.execute_reply": "2023-02-19T06:23:25.879237Z"
    },
    "papermill": {
     "duration": 0.013945,
     "end_time": "2023-02-19T06:23:25.882435",
     "exception": false,
     "start_time": "2023-02-19T06:23:25.868490",
     "status": "completed"
    },
    "tags": []
   },
   "outputs": [],
   "source": [
    "def identify_correlated(df, threshold):\n",
    "    corr_matrix = df.corr().abs()\n",
    "    mask = np.triu(np.ones_like(corr_matrix, dtype=bool))\n",
    "    reduced_corr_matrix = corr_matrix.mask(mask)\n",
    "    features_to_drop = [c for c in reduced_corr_matrix.columns if any(reduced_corr_matrix[c] > threshold)]\n",
    "    return features_to_drop"
   ]
  },
  {
   "cell_type": "code",
   "execution_count": 11,
   "id": "f97d688b",
   "metadata": {
    "execution": {
     "iopub.execute_input": "2023-02-19T06:23:25.894663Z",
     "iopub.status.busy": "2023-02-19T06:23:25.893944Z",
     "iopub.status.idle": "2023-02-19T06:23:25.898298Z",
     "shell.execute_reply": "2023-02-19T06:23:25.897281Z"
    },
    "papermill": {
     "duration": 0.013235,
     "end_time": "2023-02-19T06:23:25.900812",
     "exception": false,
     "start_time": "2023-02-19T06:23:25.887577",
     "status": "completed"
    },
    "tags": []
   },
   "outputs": [],
   "source": [
    "# features_to_drop = identify_correlated(cc_train, .85)"
   ]
  },
  {
   "cell_type": "code",
   "execution_count": 12,
   "id": "0e2dfaa4",
   "metadata": {
    "execution": {
     "iopub.execute_input": "2023-02-19T06:23:25.912987Z",
     "iopub.status.busy": "2023-02-19T06:23:25.912221Z",
     "iopub.status.idle": "2023-02-19T06:23:25.920875Z",
     "shell.execute_reply": "2023-02-19T06:23:25.920014Z"
    },
    "papermill": {
     "duration": 0.016885,
     "end_time": "2023-02-19T06:23:25.922979",
     "exception": false,
     "start_time": "2023-02-19T06:23:25.906094",
     "status": "completed"
    },
    "tags": []
   },
   "outputs": [],
   "source": [
    "features_to_drop = ['index',\n",
    " 'nmme0-tmp2m-34w__cancm30',\n",
    " 'nmme0-tmp2m-34w__cancm40',\n",
    " 'nmme0-tmp2m-34w__ccsm30',\n",
    " 'nmme0-tmp2m-34w__ccsm40',\n",
    " 'nmme0-tmp2m-34w__cfsv20',\n",
    " 'nmme0-tmp2m-34w__gfdlflora0',\n",
    " 'nmme0-tmp2m-34w__gfdlflorb0',\n",
    " 'nmme0-tmp2m-34w__gfdl0',\n",
    " 'nmme0-tmp2m-34w__nasa0',\n",
    " 'nmme0-tmp2m-34w__nmme0mean',\n",
    " 'contest-wind-h10-14d__wind-hgt-10',\n",
    " 'nmme-tmp2m-56w__cancm3',\n",
    " 'nmme-tmp2m-56w__cancm4',\n",
    " 'nmme-tmp2m-56w__ccsm3',\n",
    " 'nmme-tmp2m-56w__ccsm4',\n",
    " 'nmme-tmp2m-56w__cfsv2',\n",
    " 'nmme-tmp2m-56w__gfdl',\n",
    " 'nmme-tmp2m-56w__gfdlflora',\n",
    " 'nmme-tmp2m-56w__gfdlflorb',\n",
    " 'nmme-tmp2m-56w__nasa',\n",
    " 'nmme-tmp2m-56w__nmmemean',\n",
    " 'nmme-prate-34w__cancm3',\n",
    " 'nmme-prate-34w__cancm4',\n",
    " 'nmme-prate-34w__ccsm3',\n",
    " 'nmme-prate-34w__ccsm4',\n",
    " 'nmme-prate-34w__cfsv2',\n",
    " 'nmme-prate-34w__gfdl',\n",
    " 'nmme-prate-34w__gfdlflora',\n",
    " 'nmme-prate-34w__gfdlflorb',\n",
    " 'nmme-prate-34w__nasa',\n",
    " 'nmme-prate-34w__nmmemean',\n",
    " 'contest-wind-h100-14d__wind-hgt-100',\n",
    " 'nmme0-prate-56w__cancm30',\n",
    " 'nmme0-prate-56w__cancm40',\n",
    " 'nmme0-prate-56w__ccsm30',\n",
    " 'nmme0-prate-56w__ccsm40',\n",
    " 'nmme0-prate-56w__cfsv20',\n",
    " 'nmme0-prate-56w__gfdlflora0',\n",
    " 'nmme0-prate-56w__gfdlflorb0',\n",
    " 'nmme0-prate-56w__gfdl0',\n",
    " 'nmme0-prate-56w__nasa0',\n",
    " 'nmme0-prate-56w__nmme0mean',\n",
    " 'nmme0-prate-34w__cancm30',\n",
    " 'nmme0-prate-34w__cancm40',\n",
    " 'nmme0-prate-34w__ccsm40',\n",
    " 'nmme0-prate-34w__cfsv20',\n",
    " 'nmme0-prate-34w__gfdlflora0',\n",
    " 'nmme0-prate-34w__gfdlflorb0',\n",
    " 'nmme0-prate-34w__nmme0mean',\n",
    " 'contest-tmp2m-14d__tmp2m',\n",
    " 'nmme-prate-56w__cancm3',\n",
    " 'nmme-prate-56w__cancm4',\n",
    " 'nmme-prate-56w__ccsm4',\n",
    " 'nmme-prate-56w__cfsv2',\n",
    " 'nmme-prate-56w__gfdl',\n",
    " 'nmme-prate-56w__gfdlflora',\n",
    " 'nmme-prate-56w__gfdlflorb',\n",
    " 'contest-pres-sfc-gauss-14d__pres',\n",
    " 'nmme-tmp2m-34w__cancm3',\n",
    " 'nmme-tmp2m-34w__cancm4',\n",
    " 'nmme-tmp2m-34w__ccsm3',\n",
    " 'nmme-tmp2m-34w__ccsm4',\n",
    " 'nmme-tmp2m-34w__cfsv2',\n",
    " 'nmme-tmp2m-34w__gfdl',\n",
    " 'nmme-tmp2m-34w__gfdlflora',\n",
    " 'nmme-tmp2m-34w__gfdlflorb',\n",
    " 'nmme-tmp2m-34w__nasa',\n",
    " 'nmme-tmp2m-34w__nmmemean',\n",
    " 'cancm30',\n",
    " 'cancm40',\n",
    " 'ccsm30',\n",
    " 'ccsm40',\n",
    " 'cfsv20',\n",
    " 'gfdlflora0',\n",
    " 'gfdlflorb0',\n",
    " 'gfdl0',\n",
    " 'nasa0',\n",
    " 'nmme0mean',\n",
    " 'wind-vwnd-250-2010-1',\n",
    " 'wind-uwnd-250-2010-1',\n",
    " 'mei__mei',\n",
    " 'wind-hgt-850-2010-1',\n",
    " 'sst-2010-1',\n",
    " 'wind-hgt-500-2010-1',\n",
    " 'icec-2010-1',\n",
    " 'wind-uwnd-925-2010-1',\n",
    " 'wind-hgt-10-2010-1',\n",
    " 'wind-hgt-10-2010-2',\n",
    " 'wind-hgt-100-2010-1']"
   ]
  },
  {
   "cell_type": "code",
   "execution_count": 13,
   "id": "faa7839c",
   "metadata": {
    "execution": {
     "iopub.execute_input": "2023-02-19T06:23:25.934632Z",
     "iopub.status.busy": "2023-02-19T06:23:25.933909Z",
     "iopub.status.idle": "2023-02-19T06:23:25.941729Z",
     "shell.execute_reply": "2023-02-19T06:23:25.940699Z"
    },
    "papermill": {
     "duration": 0.015635,
     "end_time": "2023-02-19T06:23:25.943672",
     "exception": false,
     "start_time": "2023-02-19T06:23:25.928037",
     "status": "completed"
    },
    "tags": []
   },
   "outputs": [
    {
     "data": {
      "text/plain": [
       "['nmme0-tmp2m-34w__cancm30',\n",
       " 'nmme0-tmp2m-34w__cancm40',\n",
       " 'nmme0-tmp2m-34w__ccsm30',\n",
       " 'nmme0-tmp2m-34w__ccsm40',\n",
       " 'nmme0-tmp2m-34w__cfsv20',\n",
       " 'nmme0-tmp2m-34w__gfdlflora0',\n",
       " 'nmme0-tmp2m-34w__gfdlflorb0',\n",
       " 'nmme0-tmp2m-34w__gfdl0',\n",
       " 'nmme0-tmp2m-34w__nasa0',\n",
       " 'nmme0-tmp2m-34w__nmme0mean',\n",
       " 'contest-wind-h10-14d__wind-hgt-10',\n",
       " 'nmme-tmp2m-56w__cancm3',\n",
       " 'nmme-tmp2m-56w__cancm4',\n",
       " 'nmme-tmp2m-56w__ccsm3',\n",
       " 'nmme-tmp2m-56w__ccsm4',\n",
       " 'nmme-tmp2m-56w__cfsv2',\n",
       " 'nmme-tmp2m-56w__gfdl',\n",
       " 'nmme-tmp2m-56w__gfdlflora',\n",
       " 'nmme-tmp2m-56w__gfdlflorb',\n",
       " 'nmme-tmp2m-56w__nasa',\n",
       " 'nmme-tmp2m-56w__nmmemean',\n",
       " 'nmme-prate-34w__cancm3',\n",
       " 'nmme-prate-34w__cancm4',\n",
       " 'nmme-prate-34w__ccsm3',\n",
       " 'nmme-prate-34w__ccsm4',\n",
       " 'nmme-prate-34w__cfsv2',\n",
       " 'nmme-prate-34w__gfdl',\n",
       " 'nmme-prate-34w__gfdlflora',\n",
       " 'nmme-prate-34w__gfdlflorb',\n",
       " 'nmme-prate-34w__nasa',\n",
       " 'nmme-prate-34w__nmmemean',\n",
       " 'contest-wind-h100-14d__wind-hgt-100',\n",
       " 'nmme0-prate-56w__cancm30',\n",
       " 'nmme0-prate-56w__cancm40',\n",
       " 'nmme0-prate-56w__ccsm30',\n",
       " 'nmme0-prate-56w__ccsm40',\n",
       " 'nmme0-prate-56w__cfsv20',\n",
       " 'nmme0-prate-56w__gfdlflora0',\n",
       " 'nmme0-prate-56w__gfdlflorb0',\n",
       " 'nmme0-prate-56w__gfdl0',\n",
       " 'nmme0-prate-56w__nasa0',\n",
       " 'nmme0-prate-56w__nmme0mean',\n",
       " 'nmme0-prate-34w__cancm30',\n",
       " 'nmme0-prate-34w__cancm40',\n",
       " 'nmme0-prate-34w__ccsm40',\n",
       " 'nmme0-prate-34w__cfsv20',\n",
       " 'nmme0-prate-34w__gfdlflora0',\n",
       " 'nmme0-prate-34w__gfdlflorb0',\n",
       " 'nmme0-prate-34w__nmme0mean',\n",
       " 'nmme-prate-56w__cancm3',\n",
       " 'nmme-prate-56w__cancm4',\n",
       " 'nmme-prate-56w__ccsm4',\n",
       " 'nmme-prate-56w__cfsv2',\n",
       " 'nmme-prate-56w__gfdl',\n",
       " 'nmme-prate-56w__gfdlflora',\n",
       " 'nmme-prate-56w__gfdlflorb',\n",
       " 'contest-pres-sfc-gauss-14d__pres',\n",
       " 'nmme-tmp2m-34w__cancm3',\n",
       " 'nmme-tmp2m-34w__cancm4',\n",
       " 'nmme-tmp2m-34w__ccsm3',\n",
       " 'nmme-tmp2m-34w__ccsm4',\n",
       " 'nmme-tmp2m-34w__cfsv2',\n",
       " 'nmme-tmp2m-34w__gfdl',\n",
       " 'nmme-tmp2m-34w__gfdlflora',\n",
       " 'nmme-tmp2m-34w__gfdlflorb',\n",
       " 'nmme-tmp2m-34w__nasa',\n",
       " 'nmme-tmp2m-34w__nmmemean',\n",
       " 'cancm30',\n",
       " 'cancm40',\n",
       " 'ccsm30',\n",
       " 'ccsm40',\n",
       " 'cfsv20',\n",
       " 'gfdlflora0',\n",
       " 'gfdlflorb0',\n",
       " 'gfdl0',\n",
       " 'nasa0',\n",
       " 'nmme0mean',\n",
       " 'wind-vwnd-250-2010-1',\n",
       " 'wind-uwnd-250-2010-1',\n",
       " 'mei__mei',\n",
       " 'wind-hgt-850-2010-1',\n",
       " 'sst-2010-1',\n",
       " 'wind-hgt-500-2010-1',\n",
       " 'icec-2010-1',\n",
       " 'wind-uwnd-925-2010-1',\n",
       " 'wind-hgt-10-2010-1',\n",
       " 'wind-hgt-10-2010-2',\n",
       " 'wind-hgt-100-2010-1']"
      ]
     },
     "execution_count": 13,
     "metadata": {},
     "output_type": "execute_result"
    }
   ],
   "source": [
    "remove_feature = ['index', 'contest-tmp2m-14d__tmp2m']\n",
    "features_to_drop_v1 = [ele for ele in features_to_drop if ele not in remove_feature]\n",
    "features_to_drop_v1"
   ]
  },
  {
   "cell_type": "code",
   "execution_count": 14,
   "id": "03cf4a13",
   "metadata": {
    "execution": {
     "iopub.execute_input": "2023-02-19T06:23:25.955678Z",
     "iopub.status.busy": "2023-02-19T06:23:25.954960Z",
     "iopub.status.idle": "2023-02-19T06:23:26.056582Z",
     "shell.execute_reply": "2023-02-19T06:23:26.055606Z"
    },
    "papermill": {
     "duration": 0.110106,
     "end_time": "2023-02-19T06:23:26.059076",
     "exception": false,
     "start_time": "2023-02-19T06:23:25.948970",
     "status": "completed"
    },
    "tags": []
   },
   "outputs": [],
   "source": [
    "cc_train_reduced = pd.DataFrame(X.drop(features_to_drop_v1, axis=1))\n",
    "cc_test_reduced = pd.DataFrame(X_test.drop(features_to_drop_v1, axis=1))"
   ]
  },
  {
   "cell_type": "code",
   "execution_count": 15,
   "id": "dcc85d85",
   "metadata": {
    "execution": {
     "iopub.execute_input": "2023-02-19T06:23:26.071999Z",
     "iopub.status.busy": "2023-02-19T06:23:26.071682Z",
     "iopub.status.idle": "2023-02-19T06:23:26.076954Z",
     "shell.execute_reply": "2023-02-19T06:23:26.076138Z"
    },
    "papermill": {
     "duration": 0.014042,
     "end_time": "2023-02-19T06:23:26.079038",
     "exception": false,
     "start_time": "2023-02-19T06:23:26.064996",
     "status": "completed"
    },
    "tags": []
   },
   "outputs": [],
   "source": [
    "# X_train, X_test_tts, _train, y_test = train_test_split(cc_train_reduced, y, test_size=0.33, random_state=42)"
   ]
  },
  {
   "cell_type": "code",
   "execution_count": 16,
   "id": "5725f867",
   "metadata": {
    "execution": {
     "iopub.execute_input": "2023-02-19T06:23:26.090895Z",
     "iopub.status.busy": "2023-02-19T06:23:26.090613Z",
     "iopub.status.idle": "2023-02-19T06:23:26.094577Z",
     "shell.execute_reply": "2023-02-19T06:23:26.093578Z"
    },
    "papermill": {
     "duration": 0.012335,
     "end_time": "2023-02-19T06:23:26.096818",
     "exception": false,
     "start_time": "2023-02-19T06:23:26.084483",
     "status": "completed"
    },
    "tags": []
   },
   "outputs": [],
   "source": [
    "X_train = cc_train_reduced\n",
    "Y_train = y"
   ]
  },
  {
   "cell_type": "code",
   "execution_count": 17,
   "id": "aa470437",
   "metadata": {
    "execution": {
     "iopub.execute_input": "2023-02-19T06:23:26.109145Z",
     "iopub.status.busy": "2023-02-19T06:23:26.108402Z",
     "iopub.status.idle": "2023-02-19T06:23:26.115969Z",
     "shell.execute_reply": "2023-02-19T06:23:26.115087Z"
    },
    "papermill": {
     "duration": 0.015623,
     "end_time": "2023-02-19T06:23:26.117890",
     "exception": false,
     "start_time": "2023-02-19T06:23:26.102267",
     "status": "completed"
    },
    "tags": []
   },
   "outputs": [
    {
     "data": {
      "text/plain": [
       "(400817,)"
      ]
     },
     "execution_count": 17,
     "metadata": {},
     "output_type": "execute_result"
    }
   ],
   "source": [
    "nfolds = 5\n",
    "folds = GroupKFold(n_splits = 5)\n",
    "groups = np.array(X_train.month.values)\n",
    "groups.shape"
   ]
  },
  {
   "cell_type": "code",
   "execution_count": 18,
   "id": "c398dc38",
   "metadata": {
    "execution": {
     "iopub.execute_input": "2023-02-19T06:23:26.130163Z",
     "iopub.status.busy": "2023-02-19T06:23:26.129432Z",
     "iopub.status.idle": "2023-02-19T06:23:26.133798Z",
     "shell.execute_reply": "2023-02-19T06:23:26.132997Z"
    },
    "papermill": {
     "duration": 0.01217,
     "end_time": "2023-02-19T06:23:26.135572",
     "exception": false,
     "start_time": "2023-02-19T06:23:26.123402",
     "status": "completed"
    },
    "tags": []
   },
   "outputs": [],
   "source": [
    "cat_cols = [\"month\", \"day\"]"
   ]
  },
  {
   "cell_type": "code",
   "execution_count": 19,
   "id": "eb3afbb8",
   "metadata": {
    "execution": {
     "iopub.execute_input": "2023-02-19T06:23:26.148211Z",
     "iopub.status.busy": "2023-02-19T06:23:26.147335Z",
     "iopub.status.idle": "2023-02-19T06:23:26.152145Z",
     "shell.execute_reply": "2023-02-19T06:23:26.151336Z"
    },
    "papermill": {
     "duration": 0.012954,
     "end_time": "2023-02-19T06:23:26.154108",
     "exception": false,
     "start_time": "2023-02-19T06:23:26.141154",
     "status": "completed"
    },
    "tags": []
   },
   "outputs": [],
   "source": [
    "params = {'iterations' : 12000,'learning_rate': 0.05,'cat_features' : cat_cols , 'loss_function':\"RMSE\", 'task_type':\"GPU\"}"
   ]
  },
  {
   "cell_type": "code",
   "execution_count": 20,
   "id": "e30e1c69",
   "metadata": {
    "execution": {
     "iopub.execute_input": "2023-02-19T06:23:26.166546Z",
     "iopub.status.busy": "2023-02-19T06:23:26.165828Z",
     "iopub.status.idle": "2023-02-19T06:23:26.172189Z",
     "shell.execute_reply": "2023-02-19T06:23:26.171249Z"
    },
    "papermill": {
     "duration": 0.014584,
     "end_time": "2023-02-19T06:23:26.174064",
     "exception": false,
     "start_time": "2023-02-19T06:23:26.159480",
     "status": "completed"
    },
    "tags": []
   },
   "outputs": [
    {
     "data": {
      "text/plain": [
       "(400817, 171)"
      ]
     },
     "execution_count": 20,
     "metadata": {},
     "output_type": "execute_result"
    }
   ],
   "source": [
    "X_train.shape"
   ]
  },
  {
   "cell_type": "code",
   "execution_count": 21,
   "id": "9f0e9534",
   "metadata": {
    "execution": {
     "iopub.execute_input": "2023-02-19T06:23:26.186579Z",
     "iopub.status.busy": "2023-02-19T06:23:26.185873Z",
     "iopub.status.idle": "2023-02-19T06:23:26.190510Z",
     "shell.execute_reply": "2023-02-19T06:23:26.189731Z"
    },
    "papermill": {
     "duration": 0.012952,
     "end_time": "2023-02-19T06:23:26.192392",
     "exception": false,
     "start_time": "2023-02-19T06:23:26.179440",
     "status": "completed"
    },
    "tags": []
   },
   "outputs": [],
   "source": [
    "def rmse(actual, predicted):\n",
    "    return mean_squared_error(actual, predicted, squared=False)"
   ]
  },
  {
   "cell_type": "code",
   "execution_count": 22,
   "id": "bea470f4",
   "metadata": {
    "execution": {
     "iopub.execute_input": "2023-02-19T06:23:26.204846Z",
     "iopub.status.busy": "2023-02-19T06:23:26.204113Z",
     "iopub.status.idle": "2023-02-19T06:39:49.215537Z",
     "shell.execute_reply": "2023-02-19T06:39:49.214501Z"
    },
    "papermill": {
     "duration": 983.020662,
     "end_time": "2023-02-19T06:39:49.218411",
     "exception": false,
     "start_time": "2023-02-19T06:23:26.197749",
     "status": "completed"
    },
    "tags": []
   },
   "outputs": [
    {
     "name": "stdout",
     "output_type": "stream",
     "text": [
      "----\n",
      "fold n°0\n",
      "0:\tlearn: 8.7333753\ttest: 11.3525438\tbest: 11.3525438 (0)\ttotal: 31.2ms\tremaining: 6m 14s\n",
      "100:\tlearn: 1.6192792\ttest: 1.9599899\tbest: 1.9599899 (100)\ttotal: 2.61s\tremaining: 5m 7s\n",
      "200:\tlearn: 1.3156396\ttest: 1.6420288\tbest: 1.6420288 (200)\ttotal: 5.17s\tremaining: 5m 3s\n",
      "300:\tlearn: 1.1547980\ttest: 1.5062422\tbest: 1.5062422 (300)\ttotal: 8.97s\tremaining: 5m 48s\n",
      "400:\tlearn: 1.0427479\ttest: 1.4221681\tbest: 1.4219201 (399)\ttotal: 11.5s\tremaining: 5m 33s\n",
      "500:\tlearn: 0.9601756\ttest: 1.3652953\tbest: 1.3652953 (500)\ttotal: 14.1s\tremaining: 5m 23s\n",
      "600:\tlearn: 0.8974332\ttest: 1.3230720\tbest: 1.3230720 (600)\ttotal: 16.7s\tremaining: 5m 15s\n",
      "700:\tlearn: 0.8441160\ttest: 1.2888320\tbest: 1.2888320 (700)\ttotal: 19.6s\tremaining: 5m 15s\n",
      "800:\tlearn: 0.8017150\ttest: 1.2636646\tbest: 1.2636646 (800)\ttotal: 22.1s\tremaining: 5m 9s\n",
      "900:\tlearn: 0.7681273\ttest: 1.2395005\tbest: 1.2395005 (900)\ttotal: 24.6s\tremaining: 5m 3s\n",
      "1000:\tlearn: 0.7370785\ttest: 1.2214014\tbest: 1.2214014 (1000)\ttotal: 27.2s\tremaining: 4m 58s\n",
      "1100:\tlearn: 0.7078817\ttest: 1.2026801\tbest: 1.2025968 (1099)\ttotal: 30s\tremaining: 4m 57s\n",
      "1200:\tlearn: 0.6832768\ttest: 1.1865529\tbest: 1.1865529 (1200)\ttotal: 32.6s\tremaining: 4m 52s\n",
      "1300:\tlearn: 0.6595446\ttest: 1.1709864\tbest: 1.1709512 (1299)\ttotal: 35.1s\tremaining: 4m 48s\n",
      "1400:\tlearn: 0.6395502\ttest: 1.1584727\tbest: 1.1584727 (1400)\ttotal: 38s\tremaining: 4m 47s\n",
      "1500:\tlearn: 0.6218760\ttest: 1.1479550\tbest: 1.1479550 (1500)\ttotal: 41.5s\tremaining: 4m 50s\n",
      "1600:\tlearn: 0.6053993\ttest: 1.1408303\tbest: 1.1405855 (1598)\ttotal: 44s\tremaining: 4m 46s\n",
      "1700:\tlearn: 0.5912227\ttest: 1.1339181\tbest: 1.1339181 (1700)\ttotal: 46.6s\tremaining: 4m 42s\n",
      "1800:\tlearn: 0.5780707\ttest: 1.1277582\tbest: 1.1277582 (1800)\ttotal: 49.1s\tremaining: 4m 38s\n",
      "1900:\tlearn: 0.5648250\ttest: 1.1232426\tbest: 1.1228795 (1895)\ttotal: 52.1s\tremaining: 4m 36s\n",
      "2000:\tlearn: 0.5531445\ttest: 1.1181625\tbest: 1.1181625 (2000)\ttotal: 54.6s\tremaining: 4m 32s\n",
      "2100:\tlearn: 0.5421307\ttest: 1.1131287\tbest: 1.1131287 (2100)\ttotal: 57.1s\tremaining: 4m 29s\n",
      "2200:\tlearn: 0.5322192\ttest: 1.1085339\tbest: 1.1081443 (2190)\ttotal: 59.7s\tremaining: 4m 25s\n",
      "2300:\tlearn: 0.5231007\ttest: 1.1040765\tbest: 1.1039430 (2297)\ttotal: 1m 2s\tremaining: 4m 24s\n",
      "2400:\tlearn: 0.5140973\ttest: 1.1020764\tbest: 1.1020764 (2400)\ttotal: 1m 5s\tremaining: 4m 20s\n",
      "2500:\tlearn: 0.5047902\ttest: 1.0993292\tbest: 1.0992602 (2499)\ttotal: 1m 7s\tremaining: 4m 17s\n",
      "2600:\tlearn: 0.4966202\ttest: 1.0962610\tbest: 1.0962610 (2600)\ttotal: 1m 11s\tremaining: 4m 17s\n",
      "2700:\tlearn: 0.4885120\ttest: 1.0941950\tbest: 1.0941950 (2700)\ttotal: 1m 14s\tremaining: 4m 15s\n",
      "2800:\tlearn: 0.4809377\ttest: 1.0889819\tbest: 1.0889819 (2800)\ttotal: 1m 16s\tremaining: 4m 11s\n",
      "2900:\tlearn: 0.4736473\ttest: 1.0856889\tbest: 1.0856889 (2900)\ttotal: 1m 19s\tremaining: 4m 8s\n",
      "3000:\tlearn: 0.4672534\ttest: 1.0820543\tbest: 1.0818796 (2995)\ttotal: 1m 21s\tremaining: 4m 5s\n",
      "3100:\tlearn: 0.4607725\ttest: 1.0792077\tbest: 1.0792077 (3100)\ttotal: 1m 24s\tremaining: 4m 2s\n",
      "3200:\tlearn: 0.4543798\ttest: 1.0787973\tbest: 1.0785618 (3195)\ttotal: 1m 27s\tremaining: 3m 59s\n",
      "3300:\tlearn: 0.4487816\ttest: 1.0779845\tbest: 1.0778877 (3235)\ttotal: 1m 29s\tremaining: 3m 56s\n",
      "3400:\tlearn: 0.4436377\ttest: 1.0747795\tbest: 1.0747641 (3399)\ttotal: 1m 32s\tremaining: 3m 53s\n",
      "3500:\tlearn: 0.4381897\ttest: 1.0732649\tbest: 1.0732649 (3500)\ttotal: 1m 35s\tremaining: 3m 51s\n",
      "3600:\tlearn: 0.4331559\ttest: 1.0713187\tbest: 1.0708702 (3566)\ttotal: 1m 37s\tremaining: 3m 47s\n",
      "3700:\tlearn: 0.4278077\ttest: 1.0714100\tbest: 1.0708702 (3566)\ttotal: 1m 40s\tremaining: 3m 44s\n",
      "3800:\tlearn: 0.4228309\ttest: 1.0700266\tbest: 1.0699370 (3799)\ttotal: 1m 43s\tremaining: 3m 44s\n",
      "3900:\tlearn: 0.4183404\ttest: 1.0693459\tbest: 1.0693459 (3900)\ttotal: 1m 46s\tremaining: 3m 41s\n",
      "4000:\tlearn: 0.4141356\ttest: 1.0698101\tbest: 1.0692218 (3905)\ttotal: 1m 49s\tremaining: 3m 38s\n",
      "4100:\tlearn: 0.4094753\ttest: 1.0683801\tbest: 1.0683801 (4100)\ttotal: 1m 51s\tremaining: 3m 35s\n",
      "4200:\tlearn: 0.4055030\ttest: 1.0696936\tbest: 1.0683670 (4101)\ttotal: 1m 54s\tremaining: 3m 32s\n",
      "4300:\tlearn: 0.4014753\ttest: 1.0689989\tbest: 1.0683670 (4101)\ttotal: 1m 57s\tremaining: 3m 29s\n",
      "bestTest = 1.068367026\n",
      "bestIteration = 4101\n",
      "Shrink model to first 4102 iterations.\n",
      ": CB - RMSE = 1.068366540623035\n",
      "----\n",
      "fold n°1\n",
      "0:\tlearn: 9.3584281\ttest: 8.8778256\tbest: 8.8778256 (0)\ttotal: 27.2ms\tremaining: 5m 26s\n",
      "100:\tlearn: 1.6486796\ttest: 2.0609200\tbest: 2.0609200 (100)\ttotal: 2.56s\tremaining: 5m 1s\n",
      "200:\tlearn: 1.3417315\ttest: 1.7786850\tbest: 1.7786850 (200)\ttotal: 5.42s\tremaining: 5m 18s\n",
      "300:\tlearn: 1.1741538\ttest: 1.6467476\tbest: 1.6467476 (300)\ttotal: 8.05s\tremaining: 5m 12s\n",
      "400:\tlearn: 1.0538862\ttest: 1.5577799\tbest: 1.5576150 (398)\ttotal: 10.6s\tremaining: 5m 6s\n",
      "500:\tlearn: 0.9734181\ttest: 1.5016030\tbest: 1.5016030 (500)\ttotal: 14s\tremaining: 5m 22s\n",
      "600:\tlearn: 0.9072109\ttest: 1.4520654\tbest: 1.4520654 (600)\ttotal: 17s\tremaining: 5m 22s\n",
      "700:\tlearn: 0.8546304\ttest: 1.4235045\tbest: 1.4231144 (697)\ttotal: 19.5s\tremaining: 5m 14s\n",
      "800:\tlearn: 0.8090402\ttest: 1.3946487\tbest: 1.3940578 (795)\ttotal: 22s\tremaining: 5m 7s\n",
      "900:\tlearn: 0.7719083\ttest: 1.3736224\tbest: 1.3736224 (900)\ttotal: 24.6s\tremaining: 5m 2s\n",
      "1000:\tlearn: 0.7433843\ttest: 1.3588487\tbest: 1.3587175 (996)\ttotal: 27.4s\tremaining: 5m 1s\n",
      "1100:\tlearn: 0.7146353\ttest: 1.3419619\tbest: 1.3419619 (1100)\ttotal: 30s\tremaining: 4m 56s\n",
      "1200:\tlearn: 0.6914018\ttest: 1.3341930\tbest: 1.3341930 (1200)\ttotal: 32.5s\tremaining: 4m 52s\n",
      "1300:\tlearn: 0.6690945\ttest: 1.3189167\tbest: 1.3189167 (1300)\ttotal: 35.1s\tremaining: 4m 48s\n",
      "1400:\tlearn: 0.6485531\ttest: 1.3100484\tbest: 1.3100336 (1399)\ttotal: 37.6s\tremaining: 4m 44s\n",
      "1500:\tlearn: 0.6310750\ttest: 1.3047126\tbest: 1.3026248 (1490)\ttotal: 40.5s\tremaining: 4m 43s\n",
      "1600:\tlearn: 0.6147092\ttest: 1.2965265\tbest: 1.2953698 (1588)\ttotal: 43s\tremaining: 4m 39s\n",
      "1700:\tlearn: 0.5991026\ttest: 1.2896152\tbest: 1.2896002 (1699)\ttotal: 46.7s\tremaining: 4m 42s\n",
      "1800:\tlearn: 0.5841643\ttest: 1.2854767\tbest: 1.2853893 (1796)\ttotal: 49.6s\tremaining: 4m 41s\n",
      "1900:\tlearn: 0.5708318\ttest: 1.2787842\tbest: 1.2784352 (1898)\ttotal: 52.2s\tremaining: 4m 37s\n",
      "2000:\tlearn: 0.5586833\ttest: 1.2740788\tbest: 1.2737884 (1998)\ttotal: 54.7s\tremaining: 4m 33s\n",
      "2100:\tlearn: 0.5473358\ttest: 1.2692213\tbest: 1.2692213 (2100)\ttotal: 57.2s\tremaining: 4m 29s\n",
      "2200:\tlearn: 0.5372281\ttest: 1.2658749\tbest: 1.2658688 (2195)\ttotal: 59.7s\tremaining: 4m 25s\n",
      "2300:\tlearn: 0.5265836\ttest: 1.2617014\tbest: 1.2613218 (2283)\ttotal: 1m 2s\tremaining: 4m 24s\n",
      "2400:\tlearn: 0.5173625\ttest: 1.2577306\tbest: 1.2577306 (2400)\ttotal: 1m 5s\tremaining: 4m 20s\n",
      "2500:\tlearn: 0.5090797\ttest: 1.2544789\tbest: 1.2544789 (2500)\ttotal: 1m 7s\tremaining: 4m 16s\n",
      "2600:\tlearn: 0.5010978\ttest: 1.2526383\tbest: 1.2520448 (2597)\ttotal: 1m 10s\tremaining: 4m 13s\n",
      "2700:\tlearn: 0.4934619\ttest: 1.2520654\tbest: 1.2514160 (2629)\ttotal: 1m 13s\tremaining: 4m 11s\n",
      "2800:\tlearn: 0.4863825\ttest: 1.2486043\tbest: 1.2485742 (2798)\ttotal: 1m 16s\tremaining: 4m 9s\n",
      "2900:\tlearn: 0.4795280\ttest: 1.2448643\tbest: 1.2447492 (2895)\ttotal: 1m 19s\tremaining: 4m 8s\n",
      "3000:\tlearn: 0.4731384\ttest: 1.2435500\tbest: 1.2431720 (2977)\ttotal: 1m 21s\tremaining: 4m 4s\n",
      "3100:\tlearn: 0.4666982\ttest: 1.2426767\tbest: 1.2422625 (3090)\ttotal: 1m 24s\tremaining: 4m 2s\n",
      "3200:\tlearn: 0.4605885\ttest: 1.2431247\tbest: 1.2416355 (3128)\ttotal: 1m 27s\tremaining: 3m 59s\n",
      "3300:\tlearn: 0.4542755\ttest: 1.2419588\tbest: 1.2415756 (3284)\ttotal: 1m 29s\tremaining: 3m 55s\n",
      "3400:\tlearn: 0.4484416\ttest: 1.2416563\tbest: 1.2408268 (3358)\ttotal: 1m 32s\tremaining: 3m 52s\n",
      "3500:\tlearn: 0.4427909\ttest: 1.2413384\tbest: 1.2408268 (3358)\ttotal: 1m 35s\tremaining: 3m 50s\n",
      "3600:\tlearn: 0.4380914\ttest: 1.2402247\tbest: 1.2400311 (3590)\ttotal: 1m 37s\tremaining: 3m 47s\n",
      "3700:\tlearn: 0.4325040\ttest: 1.2407658\tbest: 1.2400311 (3590)\ttotal: 1m 40s\tremaining: 3m 44s\n",
      "3800:\tlearn: 0.4275232\ttest: 1.2392690\tbest: 1.2392583 (3774)\ttotal: 1m 42s\tremaining: 3m 41s\n",
      "3900:\tlearn: 0.4226988\ttest: 1.2384202\tbest: 1.2381280 (3849)\ttotal: 1m 45s\tremaining: 3m 39s\n",
      "4000:\tlearn: 0.4178070\ttest: 1.2362214\tbest: 1.2362214 (4000)\ttotal: 1m 49s\tremaining: 3m 37s\n",
      "4100:\tlearn: 0.4130787\ttest: 1.2352888\tbest: 1.2350889 (4094)\ttotal: 1m 51s\tremaining: 3m 34s\n",
      "4200:\tlearn: 0.4086434\ttest: 1.2338470\tbest: 1.2335371 (4163)\ttotal: 1m 54s\tremaining: 3m 31s\n",
      "4300:\tlearn: 0.4047300\ttest: 1.2351296\tbest: 1.2335371 (4163)\ttotal: 1m 57s\tremaining: 3m 29s\n",
      "bestTest = 1.233537084\n",
      "bestIteration = 4163\n",
      "Shrink model to first 4164 iterations.\n",
      ": CB - RMSE = 1.2335370869754965\n",
      "----\n",
      "fold n°2\n",
      "0:\tlearn: 10.1442085\ttest: 5.6123104\tbest: 5.6123104 (0)\ttotal: 26.1ms\tremaining: 5m 12s\n",
      "100:\tlearn: 1.6631525\ttest: 1.6929930\tbest: 1.6929930 (100)\ttotal: 2.45s\tremaining: 4m 48s\n",
      "200:\tlearn: 1.3497591\ttest: 1.4676340\tbest: 1.4676340 (200)\ttotal: 5.21s\tremaining: 5m 6s\n",
      "300:\tlearn: 1.1798324\ttest: 1.3484627\tbest: 1.3484627 (300)\ttotal: 7.63s\tremaining: 4m 56s\n",
      "400:\tlearn: 1.0636647\ttest: 1.2597802\tbest: 1.2596097 (396)\ttotal: 10s\tremaining: 4m 50s\n",
      "500:\tlearn: 0.9801102\ttest: 1.2009290\tbest: 1.2009290 (500)\ttotal: 12.5s\tremaining: 4m 46s\n",
      "600:\tlearn: 0.9145553\ttest: 1.1539950\tbest: 1.1538687 (599)\ttotal: 15.3s\tremaining: 4m 50s\n",
      "700:\tlearn: 0.8641881\ttest: 1.1213802\tbest: 1.1213802 (700)\ttotal: 18.9s\tremaining: 5m 4s\n",
      "800:\tlearn: 0.8243354\ttest: 1.0983239\tbest: 1.0983239 (800)\ttotal: 21.3s\tremaining: 4m 57s\n",
      "900:\tlearn: 0.7884399\ttest: 1.0709079\tbest: 1.0709079 (900)\ttotal: 23.7s\tremaining: 4m 51s\n",
      "1000:\tlearn: 0.7568870\ttest: 1.0523860\tbest: 1.0523860 (1000)\ttotal: 26.5s\tremaining: 4m 51s\n",
      "1100:\tlearn: 0.7290533\ttest: 1.0365160\tbest: 1.0365160 (1100)\ttotal: 28.9s\tremaining: 4m 46s\n",
      "1200:\tlearn: 0.7029765\ttest: 1.0228047\tbest: 1.0227194 (1199)\ttotal: 31.4s\tremaining: 4m 41s\n",
      "1300:\tlearn: 0.6799435\ttest: 1.0110480\tbest: 1.0110480 (1300)\ttotal: 33.8s\tremaining: 4m 37s\n",
      "1400:\tlearn: 0.6602618\ttest: 1.0013762\tbest: 1.0012484 (1399)\ttotal: 36.6s\tremaining: 4m 37s\n",
      "1500:\tlearn: 0.6416383\ttest: 0.9920239\tbest: 0.9919755 (1497)\ttotal: 39.1s\tremaining: 4m 33s\n",
      "1600:\tlearn: 0.6254377\ttest: 0.9844461\tbest: 0.9844461 (1600)\ttotal: 41.5s\tremaining: 4m 29s\n",
      "1700:\tlearn: 0.6097586\ttest: 0.9770660\tbest: 0.9770660 (1700)\ttotal: 43.9s\tremaining: 4m 25s\n",
      "1800:\tlearn: 0.5946922\ttest: 0.9709637\tbest: 0.9709452 (1799)\ttotal: 46.4s\tremaining: 4m 22s\n",
      "1900:\tlearn: 0.5813539\ttest: 0.9644092\tbest: 0.9641341 (1897)\ttotal: 50.2s\tremaining: 4m 26s\n",
      "2000:\tlearn: 0.5689683\ttest: 0.9602908\tbest: 0.9602772 (1997)\ttotal: 52.6s\tremaining: 4m 22s\n",
      "2100:\tlearn: 0.5572315\ttest: 0.9564237\tbest: 0.9563215 (2094)\ttotal: 55s\tremaining: 4m 19s\n",
      "2200:\tlearn: 0.5472560\ttest: 0.9518140\tbest: 0.9517991 (2199)\ttotal: 57.4s\tremaining: 4m 15s\n",
      "2300:\tlearn: 0.5371272\ttest: 0.9468960\tbest: 0.9468960 (2300)\ttotal: 1m\tremaining: 4m 13s\n",
      "2400:\tlearn: 0.5272302\ttest: 0.9434086\tbest: 0.9434086 (2400)\ttotal: 1m 2s\tremaining: 4m 10s\n",
      "2500:\tlearn: 0.5189454\ttest: 0.9408365\tbest: 0.9405281 (2495)\ttotal: 1m 5s\tremaining: 4m 6s\n",
      "2600:\tlearn: 0.5102911\ttest: 0.9381479\tbest: 0.9381479 (2600)\ttotal: 1m 7s\tremaining: 4m 3s\n",
      "2700:\tlearn: 0.5026006\ttest: 0.9345947\tbest: 0.9343990 (2696)\ttotal: 1m 10s\tremaining: 4m 1s\n",
      "2800:\tlearn: 0.4944907\ttest: 0.9318159\tbest: 0.9318159 (2800)\ttotal: 1m 12s\tremaining: 3m 58s\n",
      "2900:\tlearn: 0.4873961\ttest: 0.9286400\tbest: 0.9285939 (2897)\ttotal: 1m 15s\tremaining: 3m 55s\n",
      "3000:\tlearn: 0.4808692\ttest: 0.9276893\tbest: 0.9276637 (2942)\ttotal: 1m 17s\tremaining: 3m 52s\n",
      "3100:\tlearn: 0.4740754\ttest: 0.9251200\tbest: 0.9251200 (3100)\ttotal: 1m 21s\tremaining: 3m 54s\n",
      "3200:\tlearn: 0.4675287\ttest: 0.9232163\tbest: 0.9232059 (3199)\ttotal: 1m 24s\tremaining: 3m 51s\n",
      "3300:\tlearn: 0.4613191\ttest: 0.9207030\tbest: 0.9206085 (3290)\ttotal: 1m 26s\tremaining: 3m 48s\n",
      "3400:\tlearn: 0.4548441\ttest: 0.9170249\tbest: 0.9170249 (3400)\ttotal: 1m 28s\tremaining: 3m 44s\n",
      "3500:\tlearn: 0.4491928\ttest: 0.9162601\tbest: 0.9161128 (3490)\ttotal: 1m 31s\tremaining: 3m 42s\n",
      "3600:\tlearn: 0.4439277\ttest: 0.9145778\tbest: 0.9144984 (3597)\ttotal: 1m 34s\tremaining: 3m 39s\n",
      "3700:\tlearn: 0.4388587\ttest: 0.9141814\tbest: 0.9140672 (3685)\ttotal: 1m 36s\tremaining: 3m 36s\n",
      "3800:\tlearn: 0.4334293\ttest: 0.9120676\tbest: 0.9120676 (3800)\ttotal: 1m 39s\tremaining: 3m 33s\n",
      "3900:\tlearn: 0.4286526\ttest: 0.9111847\tbest: 0.9111099 (3887)\ttotal: 1m 41s\tremaining: 3m 30s\n",
      "4000:\tlearn: 0.4238931\ttest: 0.9101026\tbest: 0.9100119 (3994)\ttotal: 1m 44s\tremaining: 3m 28s\n",
      "4100:\tlearn: 0.4195547\ttest: 0.9092592\tbest: 0.9091713 (4092)\ttotal: 1m 46s\tremaining: 3m 25s\n",
      "4200:\tlearn: 0.4143638\ttest: 0.9070827\tbest: 0.9070827 (4200)\ttotal: 1m 49s\tremaining: 3m 22s\n",
      "4300:\tlearn: 0.4097779\ttest: 0.9046845\tbest: 0.9046845 (4300)\ttotal: 1m 51s\tremaining: 3m 19s\n",
      "4400:\tlearn: 0.4056523\ttest: 0.9034941\tbest: 0.9033884 (4387)\ttotal: 1m 55s\tremaining: 3m 19s\n",
      "4500:\tlearn: 0.4016825\ttest: 0.9029186\tbest: 0.9028860 (4496)\ttotal: 1m 57s\tremaining: 3m 16s\n",
      "4600:\tlearn: 0.3980424\ttest: 0.9023128\tbest: 0.9022830 (4594)\ttotal: 2m\tremaining: 3m 13s\n",
      "4700:\tlearn: 0.3943316\ttest: 0.9008500\tbest: 0.9008500 (4700)\ttotal: 2m 2s\tremaining: 3m 10s\n",
      "4800:\tlearn: 0.3909389\ttest: 0.9000184\tbest: 0.9000184 (4800)\ttotal: 2m 5s\tremaining: 3m 8s\n",
      "4900:\tlearn: 0.3876202\ttest: 0.8994076\tbest: 0.8994065 (4897)\ttotal: 2m 7s\tremaining: 3m 5s\n",
      "5000:\tlearn: 0.3842144\ttest: 0.8984178\tbest: 0.8983395 (4990)\ttotal: 2m 10s\tremaining: 3m 2s\n",
      "5100:\tlearn: 0.3809758\ttest: 0.8972398\tbest: 0.8972398 (5100)\ttotal: 2m 12s\tremaining: 2m 59s\n",
      "5200:\tlearn: 0.3775550\ttest: 0.8968462\tbest: 0.8968345 (5199)\ttotal: 2m 15s\tremaining: 2m 57s\n",
      "5300:\tlearn: 0.3741298\ttest: 0.8969901\tbest: 0.8964662 (5245)\ttotal: 2m 18s\tremaining: 2m 54s\n",
      "5400:\tlearn: 0.3712297\ttest: 0.8959438\tbest: 0.8959223 (5397)\ttotal: 2m 20s\tremaining: 2m 51s\n",
      "5500:\tlearn: 0.3682967\ttest: 0.8951664\tbest: 0.8951664 (5500)\ttotal: 2m 22s\tremaining: 2m 48s\n",
      "5600:\tlearn: 0.3651847\ttest: 0.8947255\tbest: 0.8946992 (5598)\ttotal: 2m 26s\tremaining: 2m 47s\n",
      "5700:\tlearn: 0.3624268\ttest: 0.8944305\tbest: 0.8943415 (5697)\ttotal: 2m 28s\tremaining: 2m 44s\n",
      "5800:\tlearn: 0.3595353\ttest: 0.8933732\tbest: 0.8931473 (5783)\ttotal: 2m 31s\tremaining: 2m 41s\n",
      "5900:\tlearn: 0.3567733\ttest: 0.8925091\tbest: 0.8925091 (5900)\ttotal: 2m 33s\tremaining: 2m 39s\n",
      "6000:\tlearn: 0.3543382\ttest: 0.8922162\tbest: 0.8920608 (5954)\ttotal: 2m 36s\tremaining: 2m 36s\n",
      "6100:\tlearn: 0.3517083\ttest: 0.8913442\tbest: 0.8913394 (6099)\ttotal: 2m 39s\tremaining: 2m 33s\n",
      "6200:\tlearn: 0.3492398\ttest: 0.8906209\tbest: 0.8905811 (6199)\ttotal: 2m 41s\tremaining: 2m 31s\n",
      "6300:\tlearn: 0.3467096\ttest: 0.8897559\tbest: 0.8896993 (6290)\ttotal: 2m 44s\tremaining: 2m 28s\n",
      "6400:\tlearn: 0.3442653\ttest: 0.8887697\tbest: 0.8887396 (6396)\ttotal: 2m 46s\tremaining: 2m 25s\n",
      "6500:\tlearn: 0.3418681\ttest: 0.8884207\tbest: 0.8884207 (6500)\ttotal: 2m 49s\tremaining: 2m 23s\n",
      "6600:\tlearn: 0.3395283\ttest: 0.8872860\tbest: 0.8872860 (6600)\ttotal: 2m 51s\tremaining: 2m 20s\n",
      "6700:\tlearn: 0.3373072\ttest: 0.8862830\tbest: 0.8862830 (6700)\ttotal: 2m 54s\tremaining: 2m 17s\n",
      "6800:\tlearn: 0.3348948\ttest: 0.8859096\tbest: 0.8859041 (6797)\ttotal: 2m 57s\tremaining: 2m 15s\n",
      "6900:\tlearn: 0.3324489\ttest: 0.8853710\tbest: 0.8853710 (6900)\ttotal: 3m\tremaining: 2m 13s\n",
      "7000:\tlearn: 0.3304270\ttest: 0.8846650\tbest: 0.8846650 (7000)\ttotal: 3m 2s\tremaining: 2m 10s\n",
      "7100:\tlearn: 0.3280958\ttest: 0.8841776\tbest: 0.8840752 (7081)\ttotal: 3m 5s\tremaining: 2m 7s\n",
      "7200:\tlearn: 0.3260279\ttest: 0.8840644\tbest: 0.8838978 (7193)\ttotal: 3m 7s\tremaining: 2m 5s\n",
      "7300:\tlearn: 0.3239036\ttest: 0.8836535\tbest: 0.8836287 (7297)\ttotal: 3m 10s\tremaining: 2m 2s\n",
      "7400:\tlearn: 0.3217503\ttest: 0.8831583\tbest: 0.8831500 (7398)\ttotal: 3m 12s\tremaining: 1m 59s\n",
      "7500:\tlearn: 0.3198840\ttest: 0.8830641\tbest: 0.8830015 (7484)\ttotal: 3m 15s\tremaining: 1m 57s\n",
      "7600:\tlearn: 0.3178911\ttest: 0.8825108\tbest: 0.8825108 (7600)\ttotal: 3m 17s\tremaining: 1m 54s\n",
      "7700:\tlearn: 0.3159208\ttest: 0.8819226\tbest: 0.8818771 (7697)\ttotal: 3m 20s\tremaining: 1m 51s\n",
      "7800:\tlearn: 0.3140288\ttest: 0.8816093\tbest: 0.8815407 (7789)\ttotal: 3m 22s\tremaining: 1m 49s\n",
      "7900:\tlearn: 0.3121601\ttest: 0.8814332\tbest: 0.8813591 (7883)\ttotal: 3m 25s\tremaining: 1m 46s\n",
      "8000:\tlearn: 0.3105305\ttest: 0.8809180\tbest: 0.8808829 (7999)\ttotal: 3m 27s\tremaining: 1m 43s\n",
      "8100:\tlearn: 0.3087916\ttest: 0.8802299\tbest: 0.8802299 (8100)\ttotal: 3m 31s\tremaining: 1m 41s\n",
      "8200:\tlearn: 0.3071792\ttest: 0.8796901\tbest: 0.8796569 (8195)\ttotal: 3m 34s\tremaining: 1m 39s\n",
      "8300:\tlearn: 0.3055175\ttest: 0.8795921\tbest: 0.8795106 (8216)\ttotal: 3m 36s\tremaining: 1m 36s\n",
      "8400:\tlearn: 0.3038427\ttest: 0.8788268\tbest: 0.8788025 (8399)\ttotal: 3m 38s\tremaining: 1m 33s\n",
      "8500:\tlearn: 0.3021783\ttest: 0.8786088\tbest: 0.8786088 (8500)\ttotal: 3m 41s\tremaining: 1m 31s\n",
      "8600:\tlearn: 0.3005622\ttest: 0.8782316\tbest: 0.8782012 (8596)\ttotal: 3m 44s\tremaining: 1m 28s\n",
      "8700:\tlearn: 0.2988597\ttest: 0.8783897\tbest: 0.8782012 (8596)\ttotal: 3m 46s\tremaining: 1m 25s\n",
      "8800:\tlearn: 0.2972069\ttest: 0.8781371\tbest: 0.8779813 (8769)\ttotal: 3m 49s\tremaining: 1m 23s\n",
      "8900:\tlearn: 0.2956121\ttest: 0.8778897\tbest: 0.8777893 (8853)\ttotal: 3m 51s\tremaining: 1m 20s\n",
      "9000:\tlearn: 0.2941363\ttest: 0.8773786\tbest: 0.8772633 (8991)\ttotal: 3m 54s\tremaining: 1m 18s\n",
      "9100:\tlearn: 0.2926882\ttest: 0.8772643\tbest: 0.8772495 (9065)\ttotal: 3m 56s\tremaining: 1m 15s\n",
      "9200:\tlearn: 0.2912494\ttest: 0.8773889\tbest: 0.8771969 (9177)\ttotal: 3m 59s\tremaining: 1m 12s\n",
      "9300:\tlearn: 0.2897069\ttest: 0.8773516\tbest: 0.8771969 (9177)\ttotal: 4m 2s\tremaining: 1m 10s\n",
      "9400:\tlearn: 0.2883442\ttest: 0.8771487\tbest: 0.8770677 (9379)\ttotal: 4m 5s\tremaining: 1m 7s\n",
      "9500:\tlearn: 0.2869606\ttest: 0.8770498\tbest: 0.8770220 (9499)\ttotal: 4m 7s\tremaining: 1m 5s\n",
      "9600:\tlearn: 0.2856276\ttest: 0.8769617\tbest: 0.8769617 (9600)\ttotal: 4m 10s\tremaining: 1m 2s\n",
      "9700:\tlearn: 0.2841423\ttest: 0.8761891\tbest: 0.8761815 (9699)\ttotal: 4m 12s\tremaining: 59.9s\n",
      "9800:\tlearn: 0.2826538\ttest: 0.8760577\tbest: 0.8760082 (9711)\ttotal: 4m 15s\tremaining: 57.3s\n",
      "9900:\tlearn: 0.2810923\ttest: 0.8758832\tbest: 0.8758640 (9890)\ttotal: 4m 17s\tremaining: 54.7s\n",
      "10000:\tlearn: 0.2798104\ttest: 0.8767350\tbest: 0.8758632 (9903)\ttotal: 4m 20s\tremaining: 52s\n",
      "10100:\tlearn: 0.2784915\ttest: 0.8764928\tbest: 0.8758632 (9903)\ttotal: 4m 22s\tremaining: 49.4s\n",
      "bestTest = 0.875863156\n",
      "bestIteration = 9903\n",
      "Shrink model to first 9904 iterations.\n",
      ": CB - RMSE = 0.8758617742413484\n",
      "----\n",
      "fold n°3\n",
      "0:\tlearn: 9.3856009\ttest: 8.8586719\tbest: 8.8586719 (0)\ttotal: 26.1ms\tremaining: 5m 12s\n",
      "100:\tlearn: 1.5894575\ttest: 2.5184816\tbest: 2.5184816 (100)\ttotal: 2.51s\tremaining: 4m 55s\n",
      "200:\tlearn: 1.2939852\ttest: 2.3223132\tbest: 2.3223132 (200)\ttotal: 5.89s\tremaining: 5m 46s\n",
      "300:\tlearn: 1.1339882\ttest: 2.1875306\tbest: 2.1865035 (299)\ttotal: 8.33s\tremaining: 5m 23s\n",
      "400:\tlearn: 1.0246572\ttest: 2.1262700\tbest: 2.1262700 (400)\ttotal: 11.2s\tremaining: 5m 23s\n",
      "500:\tlearn: 0.9459107\ttest: 2.0858126\tbest: 2.0858126 (500)\ttotal: 13.6s\tremaining: 5m 13s\n",
      "600:\tlearn: 0.8881893\ttest: 2.0635826\tbest: 2.0634045 (592)\ttotal: 16.1s\tremaining: 5m 4s\n",
      "700:\tlearn: 0.8390656\ttest: 2.0429461\tbest: 2.0429461 (700)\ttotal: 18.5s\tremaining: 4m 58s\n",
      "800:\tlearn: 0.7992900\ttest: 2.0258456\tbest: 2.0258456 (800)\ttotal: 21.4s\tremaining: 4m 59s\n",
      "900:\tlearn: 0.7651247\ttest: 2.0143488\tbest: 2.0143488 (900)\ttotal: 23.8s\tremaining: 4m 53s\n",
      "1000:\tlearn: 0.7311553\ttest: 2.0011809\tbest: 2.0007560 (996)\ttotal: 26.2s\tremaining: 4m 48s\n",
      "1100:\tlearn: 0.7048595\ttest: 1.9869493\tbest: 1.9869493 (1100)\ttotal: 28.6s\tremaining: 4m 43s\n",
      "1200:\tlearn: 0.6786352\ttest: 1.9776853\tbest: 1.9770196 (1174)\ttotal: 31.5s\tremaining: 4m 42s\n",
      "1300:\tlearn: 0.6568268\ttest: 1.9690465\tbest: 1.9690465 (1300)\ttotal: 33.9s\tremaining: 4m 38s\n",
      "1400:\tlearn: 0.6374207\ttest: 1.9624567\tbest: 1.9624295 (1397)\ttotal: 37.3s\tremaining: 4m 42s\n",
      "1500:\tlearn: 0.6196099\ttest: 1.9570101\tbest: 1.9570101 (1500)\ttotal: 39.7s\tremaining: 4m 37s\n",
      "1600:\tlearn: 0.6039153\ttest: 1.9505535\tbest: 1.9503008 (1599)\ttotal: 42.3s\tremaining: 4m 34s\n",
      "1700:\tlearn: 0.5893280\ttest: 1.9451878\tbest: 1.9449611 (1699)\ttotal: 44.8s\tremaining: 4m 31s\n",
      "1800:\tlearn: 0.5755484\ttest: 1.9396712\tbest: 1.9396712 (1800)\ttotal: 47.2s\tremaining: 4m 27s\n",
      "1900:\tlearn: 0.5620993\ttest: 1.9356513\tbest: 1.9349959 (1892)\ttotal: 49.6s\tremaining: 4m 23s\n",
      "2000:\tlearn: 0.5506538\ttest: 1.9322662\tbest: 1.9319448 (1998)\ttotal: 52.1s\tremaining: 4m 20s\n",
      "2100:\tlearn: 0.5401489\ttest: 1.9306090\tbest: 1.9305956 (2099)\ttotal: 54.9s\tremaining: 4m 18s\n",
      "2200:\tlearn: 0.5300736\ttest: 1.9263586\tbest: 1.9257821 (2179)\ttotal: 57.3s\tremaining: 4m 15s\n",
      "2300:\tlearn: 0.5194645\ttest: 1.9242410\tbest: 1.9241771 (2299)\ttotal: 59.7s\tremaining: 4m 11s\n",
      "2400:\tlearn: 0.5104903\ttest: 1.9214575\tbest: 1.9214575 (2400)\ttotal: 1m 2s\tremaining: 4m 8s\n",
      "2500:\tlearn: 0.5022727\ttest: 1.9195580\tbest: 1.9195580 (2500)\ttotal: 1m 5s\tremaining: 4m 7s\n",
      "2600:\tlearn: 0.4942243\ttest: 1.9156428\tbest: 1.9156428 (2600)\ttotal: 1m 8s\tremaining: 4m 7s\n",
      "2700:\tlearn: 0.4863980\ttest: 1.9125554\tbest: 1.9125554 (2700)\ttotal: 1m 10s\tremaining: 4m 4s\n",
      "2800:\tlearn: 0.4791230\ttest: 1.9117039\tbest: 1.9117039 (2800)\ttotal: 1m 13s\tremaining: 4m\n",
      "2900:\tlearn: 0.4722150\ttest: 1.9063031\tbest: 1.9063031 (2899)\ttotal: 1m 16s\tremaining: 3m 59s\n",
      "3000:\tlearn: 0.4660257\ttest: 1.9030457\tbest: 1.9030169 (2999)\ttotal: 1m 18s\tremaining: 3m 55s\n",
      "3100:\tlearn: 0.4601060\ttest: 1.9025430\tbest: 1.9023470 (3027)\ttotal: 1m 21s\tremaining: 3m 52s\n",
      "3200:\tlearn: 0.4538694\ttest: 1.9009408\tbest: 1.9007937 (3173)\ttotal: 1m 23s\tremaining: 3m 49s\n",
      "3300:\tlearn: 0.4480855\ttest: 1.8977805\tbest: 1.8976342 (3297)\ttotal: 1m 26s\tremaining: 3m 47s\n",
      "3400:\tlearn: 0.4422366\ttest: 1.8955146\tbest: 1.8955146 (3400)\ttotal: 1m 28s\tremaining: 3m 44s\n",
      "3500:\tlearn: 0.4364026\ttest: 1.8931534\tbest: 1.8928149 (3483)\ttotal: 1m 31s\tremaining: 3m 41s\n",
      "3600:\tlearn: 0.4314083\ttest: 1.8914942\tbest: 1.8914747 (3599)\ttotal: 1m 33s\tremaining: 3m 38s\n",
      "3700:\tlearn: 0.4265257\ttest: 1.8913977\tbest: 1.8910803 (3628)\ttotal: 1m 35s\tremaining: 3m 35s\n",
      "3800:\tlearn: 0.4213812\ttest: 1.8909441\tbest: 1.8903516 (3758)\ttotal: 1m 38s\tremaining: 3m 33s\n",
      "3900:\tlearn: 0.4165957\ttest: 1.8894483\tbest: 1.8894480 (3898)\ttotal: 1m 42s\tremaining: 3m 32s\n",
      "4000:\tlearn: 0.4122696\ttest: 1.8875006\tbest: 1.8875006 (4000)\ttotal: 1m 44s\tremaining: 3m 29s\n",
      "4100:\tlearn: 0.4081731\ttest: 1.8844651\tbest: 1.8844651 (4100)\ttotal: 1m 47s\tremaining: 3m 26s\n",
      "4200:\tlearn: 0.4037098\ttest: 1.8826141\tbest: 1.8825271 (4176)\ttotal: 1m 49s\tremaining: 3m 23s\n",
      "4300:\tlearn: 0.3991182\ttest: 1.8812464\tbest: 1.8810067 (4253)\ttotal: 1m 52s\tremaining: 3m 21s\n",
      "4400:\tlearn: 0.3952016\ttest: 1.8796794\tbest: 1.8796065 (4384)\ttotal: 1m 54s\tremaining: 3m 18s\n",
      "4500:\tlearn: 0.3913183\ttest: 1.8790962\tbest: 1.8790962 (4500)\ttotal: 1m 57s\tremaining: 3m 15s\n",
      "4600:\tlearn: 0.3876154\ttest: 1.8771542\tbest: 1.8771091 (4599)\ttotal: 2m\tremaining: 3m 13s\n",
      "4700:\tlearn: 0.3839018\ttest: 1.8779623\tbest: 1.8768894 (4627)\ttotal: 2m 2s\tremaining: 3m 10s\n",
      "4800:\tlearn: 0.3804633\ttest: 1.8771250\tbest: 1.8768894 (4627)\ttotal: 2m 5s\tremaining: 3m 7s\n",
      "4900:\tlearn: 0.3770578\ttest: 1.8761280\tbest: 1.8756395 (4897)\ttotal: 2m 7s\tremaining: 3m 4s\n",
      "5000:\tlearn: 0.3738369\ttest: 1.8741984\tbest: 1.8741984 (5000)\ttotal: 2m 10s\tremaining: 3m 2s\n",
      "5100:\tlearn: 0.3706020\ttest: 1.8732185\tbest: 1.8732185 (5100)\ttotal: 2m 13s\tremaining: 3m 1s\n",
      "5200:\tlearn: 0.3674221\ttest: 1.8730917\tbest: 1.8727661 (5185)\ttotal: 2m 16s\tremaining: 2m 58s\n",
      "5300:\tlearn: 0.3642317\ttest: 1.8726520\tbest: 1.8722353 (5247)\ttotal: 2m 18s\tremaining: 2m 55s\n",
      "5400:\tlearn: 0.3611348\ttest: 1.8729398\tbest: 1.8722353 (5247)\ttotal: 2m 21s\tremaining: 2m 53s\n",
      "5500:\tlearn: 0.3580704\ttest: 1.8700207\tbest: 1.8699389 (5498)\ttotal: 2m 24s\tremaining: 2m 50s\n",
      "5600:\tlearn: 0.3551890\ttest: 1.8680403\tbest: 1.8679096 (5597)\ttotal: 2m 26s\tremaining: 2m 47s\n",
      "5700:\tlearn: 0.3523272\ttest: 1.8682648\tbest: 1.8679096 (5597)\ttotal: 2m 28s\tremaining: 2m 44s\n",
      "5800:\tlearn: 0.3496677\ttest: 1.8677471\tbest: 1.8675605 (5787)\ttotal: 2m 31s\tremaining: 2m 41s\n",
      "5900:\tlearn: 0.3470748\ttest: 1.8671659\tbest: 1.8667907 (5845)\ttotal: 2m 34s\tremaining: 2m 39s\n",
      "6000:\tlearn: 0.3443917\ttest: 1.8647240\tbest: 1.8645148 (5990)\ttotal: 2m 36s\tremaining: 2m 36s\n",
      "6100:\tlearn: 0.3419300\ttest: 1.8635561\tbest: 1.8635561 (6100)\ttotal: 2m 38s\tremaining: 2m 33s\n",
      "6200:\tlearn: 0.3393497\ttest: 1.8629805\tbest: 1.8629805 (6200)\ttotal: 2m 41s\tremaining: 2m 30s\n",
      "6300:\tlearn: 0.3369380\ttest: 1.8617025\tbest: 1.8616650 (6298)\ttotal: 2m 45s\tremaining: 2m 29s\n",
      "6400:\tlearn: 0.3345656\ttest: 1.8607911\tbest: 1.8606436 (6394)\ttotal: 2m 47s\tremaining: 2m 26s\n",
      "6500:\tlearn: 0.3322564\ttest: 1.8611398\tbest: 1.8606436 (6394)\ttotal: 2m 49s\tremaining: 2m 23s\n",
      "6600:\tlearn: 0.3296616\ttest: 1.8612063\tbest: 1.8602581 (6551)\ttotal: 2m 52s\tremaining: 2m 20s\n",
      "6700:\tlearn: 0.3275687\ttest: 1.8608445\tbest: 1.8602581 (6551)\ttotal: 2m 55s\tremaining: 2m 18s\n",
      "bestTest = 1.860258078\n",
      "bestIteration = 6551\n",
      "Shrink model to first 6552 iterations.\n",
      ": CB - RMSE = 1.8602607238075002\n",
      "----\n",
      "fold n°4\n",
      "0:\tlearn: 8.7272530\ttest: 11.7638392\tbest: 11.7638392 (0)\ttotal: 27.1ms\tremaining: 5m 25s\n",
      "100:\tlearn: 1.5946435\ttest: 1.9717526\tbest: 1.9717526 (100)\ttotal: 2.59s\tremaining: 5m 4s\n",
      "200:\tlearn: 1.3067021\ttest: 1.6620261\tbest: 1.6620261 (200)\ttotal: 5.48s\tremaining: 5m 21s\n",
      "300:\tlearn: 1.1420475\ttest: 1.5088496\tbest: 1.5088496 (300)\ttotal: 8.05s\tremaining: 5m 12s\n",
      "400:\tlearn: 1.0360170\ttest: 1.4187263\tbest: 1.4187263 (400)\ttotal: 10.6s\tremaining: 5m 6s\n",
      "500:\tlearn: 0.9536856\ttest: 1.3595032\tbest: 1.3595032 (500)\ttotal: 13.3s\tremaining: 5m 4s\n",
      "600:\tlearn: 0.8922743\ttest: 1.3141386\tbest: 1.3141386 (600)\ttotal: 17s\tremaining: 5m 22s\n",
      "700:\tlearn: 0.8418638\ttest: 1.2763979\tbest: 1.2763979 (700)\ttotal: 19.5s\tremaining: 5m 14s\n",
      "800:\tlearn: 0.7986253\ttest: 1.2386757\tbest: 1.2386757 (800)\ttotal: 22.1s\tremaining: 5m 8s\n",
      "900:\tlearn: 0.7635694\ttest: 1.2087913\tbest: 1.2087913 (900)\ttotal: 24.8s\tremaining: 5m 5s\n",
      "1000:\tlearn: 0.7329310\ttest: 1.1847704\tbest: 1.1847704 (1000)\ttotal: 27.6s\tremaining: 5m 3s\n",
      "1100:\tlearn: 0.7070279\ttest: 1.1648829\tbest: 1.1648829 (1100)\ttotal: 30.2s\tremaining: 4m 58s\n",
      "1200:\tlearn: 0.6841494\ttest: 1.1474443\tbest: 1.1474443 (1200)\ttotal: 32.7s\tremaining: 4m 54s\n",
      "1300:\tlearn: 0.6616770\ttest: 1.1297428\tbest: 1.1297428 (1300)\ttotal: 35.3s\tremaining: 4m 50s\n",
      "1400:\tlearn: 0.6407915\ttest: 1.1144356\tbest: 1.1144356 (1400)\ttotal: 38.2s\tremaining: 4m 49s\n",
      "1500:\tlearn: 0.6224238\ttest: 1.1033712\tbest: 1.1033712 (1500)\ttotal: 40.8s\tremaining: 4m 45s\n",
      "1600:\tlearn: 0.6067210\ttest: 1.0941459\tbest: 1.0941459 (1600)\ttotal: 43.3s\tremaining: 4m 41s\n",
      "1700:\tlearn: 0.5917431\ttest: 1.0854943\tbest: 1.0854943 (1700)\ttotal: 46.9s\tremaining: 4m 44s\n",
      "1800:\tlearn: 0.5772473\ttest: 1.0760684\tbest: 1.0760684 (1800)\ttotal: 49.6s\tremaining: 4m 41s\n",
      "1900:\tlearn: 0.5640545\ttest: 1.0690948\tbest: 1.0690948 (1900)\ttotal: 52.2s\tremaining: 4m 37s\n",
      "2000:\tlearn: 0.5518535\ttest: 1.0617771\tbest: 1.0617123 (1997)\ttotal: 54.7s\tremaining: 4m 33s\n",
      "2100:\tlearn: 0.5407998\ttest: 1.0542620\tbest: 1.0542620 (2100)\ttotal: 57.3s\tremaining: 4m 29s\n",
      "2200:\tlearn: 0.5303720\ttest: 1.0500494\tbest: 1.0500203 (2199)\ttotal: 1m\tremaining: 4m 28s\n",
      "2300:\tlearn: 0.5209688\ttest: 1.0469640\tbest: 1.0466801 (2299)\ttotal: 1m 2s\tremaining: 4m 24s\n",
      "2400:\tlearn: 0.5118436\ttest: 1.0438159\tbest: 1.0438159 (2400)\ttotal: 1m 5s\tremaining: 4m 21s\n",
      "2500:\tlearn: 0.5030759\ttest: 1.0374075\tbest: 1.0374075 (2500)\ttotal: 1m 7s\tremaining: 4m 17s\n",
      "2600:\tlearn: 0.4951281\ttest: 1.0338016\tbest: 1.0338016 (2600)\ttotal: 1m 10s\tremaining: 4m 16s\n",
      "2700:\tlearn: 0.4874117\ttest: 1.0290438\tbest: 1.0290438 (2700)\ttotal: 1m 13s\tremaining: 4m 12s\n",
      "2800:\tlearn: 0.4798779\ttest: 1.0243256\tbest: 1.0243256 (2800)\ttotal: 1m 16s\tremaining: 4m 9s\n",
      "2900:\tlearn: 0.4735851\ttest: 1.0220497\tbest: 1.0218633 (2881)\ttotal: 1m 19s\tremaining: 4m 9s\n",
      "3000:\tlearn: 0.4668019\ttest: 1.0203133\tbest: 1.0203007 (2995)\ttotal: 1m 22s\tremaining: 4m 7s\n",
      "3100:\tlearn: 0.4608333\ttest: 1.0176363\tbest: 1.0176114 (3099)\ttotal: 1m 25s\tremaining: 4m 4s\n",
      "3200:\tlearn: 0.4547438\ttest: 1.0140191\tbest: 1.0139873 (3199)\ttotal: 1m 27s\tremaining: 4m\n",
      "3300:\tlearn: 0.4488043\ttest: 1.0108709\tbest: 1.0107482 (3294)\ttotal: 1m 30s\tremaining: 3m 57s\n",
      "3400:\tlearn: 0.4429723\ttest: 1.0084614\tbest: 1.0084614 (3400)\ttotal: 1m 33s\tremaining: 3m 55s\n",
      "3500:\tlearn: 0.4376811\ttest: 1.0065443\tbest: 1.0065443 (3500)\ttotal: 1m 35s\tremaining: 3m 52s\n",
      "3600:\tlearn: 0.4320940\ttest: 1.0047555\tbest: 1.0045516 (3587)\ttotal: 1m 38s\tremaining: 3m 48s\n",
      "3700:\tlearn: 0.4267791\ttest: 1.0016110\tbest: 1.0016110 (3700)\ttotal: 1m 40s\tremaining: 3m 45s\n",
      "3800:\tlearn: 0.4221761\ttest: 0.9998770\tbest: 0.9998770 (3800)\ttotal: 1m 43s\tremaining: 3m 43s\n",
      "3900:\tlearn: 0.4178771\ttest: 0.9979588\tbest: 0.9979588 (3900)\ttotal: 1m 46s\tremaining: 3m 40s\n",
      "4000:\tlearn: 0.4136298\ttest: 0.9961663\tbest: 0.9960319 (3985)\ttotal: 1m 48s\tremaining: 3m 37s\n",
      "4100:\tlearn: 0.4094052\ttest: 0.9950568\tbest: 0.9949549 (4096)\ttotal: 1m 52s\tremaining: 3m 36s\n",
      "4200:\tlearn: 0.4055681\ttest: 0.9931403\tbest: 0.9931289 (4198)\ttotal: 1m 55s\tremaining: 3m 33s\n",
      "4300:\tlearn: 0.4015798\ttest: 0.9925029\tbest: 0.9923035 (4288)\ttotal: 1m 57s\tremaining: 3m 30s\n",
      "4400:\tlearn: 0.3975477\ttest: 0.9910816\tbest: 0.9910816 (4400)\ttotal: 2m\tremaining: 3m 27s\n",
      "4500:\tlearn: 0.3939570\ttest: 0.9887077\tbest: 0.9886433 (4499)\ttotal: 2m 2s\tremaining: 3m 24s\n",
      "4600:\tlearn: 0.3901858\ttest: 0.9873556\tbest: 0.9873556 (4600)\ttotal: 2m 5s\tremaining: 3m 22s\n",
      "4700:\tlearn: 0.3868780\ttest: 0.9859668\tbest: 0.9858956 (4697)\ttotal: 2m 8s\tremaining: 3m 19s\n",
      "4800:\tlearn: 0.3835448\ttest: 0.9841941\tbest: 0.9841417 (4799)\ttotal: 2m 10s\tremaining: 3m 16s\n",
      "4900:\tlearn: 0.3801006\ttest: 0.9836343\tbest: 0.9835732 (4898)\ttotal: 2m 13s\tremaining: 3m 13s\n",
      "5000:\tlearn: 0.3768966\ttest: 0.9825986\tbest: 0.9825986 (5000)\ttotal: 2m 16s\tremaining: 3m 10s\n",
      "5100:\tlearn: 0.3738589\ttest: 0.9812217\tbest: 0.9811225 (5095)\ttotal: 2m 18s\tremaining: 3m 7s\n",
      "5200:\tlearn: 0.3708314\ttest: 0.9799682\tbest: 0.9799680 (5198)\ttotal: 2m 22s\tremaining: 3m 6s\n",
      "5300:\tlearn: 0.3674510\ttest: 0.9785930\tbest: 0.9785924 (5299)\ttotal: 2m 24s\tremaining: 3m 3s\n",
      "5400:\tlearn: 0.3643680\ttest: 0.9772530\tbest: 0.9771979 (5399)\ttotal: 2m 27s\tremaining: 3m\n",
      "5500:\tlearn: 0.3612674\ttest: 0.9760493\tbest: 0.9760350 (5499)\ttotal: 2m 30s\tremaining: 2m 57s\n",
      "5600:\tlearn: 0.3586676\ttest: 0.9749455\tbest: 0.9748879 (5596)\ttotal: 2m 33s\tremaining: 2m 54s\n",
      "5700:\tlearn: 0.3559422\ttest: 0.9750283\tbest: 0.9746305 (5676)\ttotal: 2m 35s\tremaining: 2m 51s\n",
      "5800:\tlearn: 0.3530105\ttest: 0.9738989\tbest: 0.9738988 (5798)\ttotal: 2m 38s\tremaining: 2m 49s\n",
      "5900:\tlearn: 0.3501912\ttest: 0.9727053\tbest: 0.9724418 (5890)\ttotal: 2m 41s\tremaining: 2m 46s\n",
      "6000:\tlearn: 0.3478900\ttest: 0.9724393\tbest: 0.9722428 (5988)\ttotal: 2m 43s\tremaining: 2m 43s\n",
      "6100:\tlearn: 0.3456185\ttest: 0.9715433\tbest: 0.9715433 (6100)\ttotal: 2m 46s\tremaining: 2m 40s\n",
      "6200:\tlearn: 0.3426487\ttest: 0.9706185\tbest: 0.9705147 (6185)\ttotal: 2m 49s\tremaining: 2m 38s\n",
      "6300:\tlearn: 0.3399209\ttest: 0.9696885\tbest: 0.9696885 (6300)\ttotal: 2m 51s\tremaining: 2m 35s\n",
      "6400:\tlearn: 0.3376596\ttest: 0.9681537\tbest: 0.9681537 (6400)\ttotal: 2m 55s\tremaining: 2m 33s\n",
      "6500:\tlearn: 0.3354160\ttest: 0.9673226\tbest: 0.9672521 (6453)\ttotal: 2m 57s\tremaining: 2m 30s\n",
      "6600:\tlearn: 0.3330531\ttest: 0.9658516\tbest: 0.9658357 (6599)\ttotal: 3m\tremaining: 2m 27s\n",
      "6700:\tlearn: 0.3310022\ttest: 0.9653917\tbest: 0.9652249 (6674)\ttotal: 3m 3s\tremaining: 2m 24s\n",
      "6800:\tlearn: 0.3288012\ttest: 0.9650168\tbest: 0.9650145 (6799)\ttotal: 3m 5s\tremaining: 2m 22s\n",
      "6900:\tlearn: 0.3266809\ttest: 0.9646197\tbest: 0.9645733 (6892)\ttotal: 3m 8s\tremaining: 2m 19s\n",
      "7000:\tlearn: 0.3247487\ttest: 0.9641603\tbest: 0.9641603 (7000)\ttotal: 3m 11s\tremaining: 2m 16s\n",
      "7100:\tlearn: 0.3227149\ttest: 0.9641782\tbest: 0.9638350 (7092)\ttotal: 3m 13s\tremaining: 2m 13s\n",
      "7200:\tlearn: 0.3206323\ttest: 0.9644633\tbest: 0.9638350 (7092)\ttotal: 3m 16s\tremaining: 2m 10s\n",
      "bestTest = 0.9638350321\n",
      "bestIteration = 7092\n",
      "Shrink model to first 7093 iterations.\n",
      ": CB - RMSE = 0.9638290031858331\n",
      ": CB - RMSE = 1.275849477040456\n"
     ]
    }
   ],
   "source": [
    "lgb_train_preds = np.zeros(X_train.shape[0])\n",
    "lgb_test_preds = np.zeros(cc_test_reduced.shape[0])\n",
    "for fold_, (trn_idx, val_idx) in enumerate(folds.split(X_train.values, X_train.values, groups)):\n",
    "    print('----')\n",
    "    print(\"fold n°{}\".format(fold_))\n",
    "    x_train,y_train = X_train.iloc[trn_idx], Y_train[trn_idx]\n",
    "    x_val,y_val = X_train.iloc[val_idx], Y_train[val_idx]\n",
    "    lgb_model = CatBoostRegressor(**params).fit(x_train, y_train, \n",
    "                                                  eval_set=[(x_val, y_val)],\n",
    "                                                  early_stopping_rounds=200, verbose = 100)\n",
    "    test_oof_preds = lgb_model.predict(cc_test_reduced)\n",
    "    train_oof_preds = lgb_model.predict(x_val)\n",
    "    lgb_train_preds[val_idx] = train_oof_preds\n",
    "    lgb_test_preds += test_oof_preds / nfolds\n",
    "    print(\": CB - RMSE = {}\".format(rmse(y_val, train_oof_preds)))\n",
    "print(\": CB - RMSE = {}\".format(rmse(Y_train, lgb_train_preds)))"
   ]
  },
  {
   "cell_type": "code",
   "execution_count": 23,
   "id": "4d21d7ed",
   "metadata": {
    "execution": {
     "iopub.execute_input": "2023-02-19T06:39:49.265305Z",
     "iopub.status.busy": "2023-02-19T06:39:49.265002Z",
     "iopub.status.idle": "2023-02-19T06:39:49.405839Z",
     "shell.execute_reply": "2023-02-19T06:39:49.404746Z"
    },
    "papermill": {
     "duration": 0.167111,
     "end_time": "2023-02-19T06:39:49.408780",
     "exception": false,
     "start_time": "2023-02-19T06:39:49.241669",
     "status": "completed"
    },
    "tags": []
   },
   "outputs": [],
   "source": [
    "cc_sample[target] = lgb_test_preds\n",
    "cc_sample.to_csv('/kaggle/working/submission_drop_year_add_season.csv', index = False)"
   ]
  },
  {
   "cell_type": "code",
   "execution_count": 24,
   "id": "5ad0323a",
   "metadata": {
    "execution": {
     "iopub.execute_input": "2023-02-19T06:39:49.481136Z",
     "iopub.status.busy": "2023-02-19T06:39:49.480724Z",
     "iopub.status.idle": "2023-02-19T06:39:49.485232Z",
     "shell.execute_reply": "2023-02-19T06:39:49.484162Z"
    },
    "papermill": {
     "duration": 0.042571,
     "end_time": "2023-02-19T06:39:49.487682",
     "exception": false,
     "start_time": "2023-02-19T06:39:49.445111",
     "status": "completed"
    },
    "tags": []
   },
   "outputs": [],
   "source": [
    "#weight for month"
   ]
  }
 ],
 "metadata": {
  "kernelspec": {
   "display_name": "Python 3",
   "language": "python",
   "name": "python3"
  },
  "language_info": {
   "codemirror_mode": {
    "name": "ipython",
    "version": 3
   },
   "file_extension": ".py",
   "mimetype": "text/x-python",
   "name": "python",
   "nbconvert_exporter": "python",
   "pygments_lexer": "ipython3",
   "version": "3.7.12"
  },
  "papermill": {
   "default_parameters": {},
   "duration": 1100.838891,
   "end_time": "2023-02-19T06:39:50.751159",
   "environment_variables": {},
   "exception": null,
   "input_path": "__notebook__.ipynb",
   "output_path": "__notebook__.ipynb",
   "parameters": {},
   "start_time": "2023-02-19T06:21:29.912268",
   "version": "2.3.4"
  }
 },
 "nbformat": 4,
 "nbformat_minor": 5
}
